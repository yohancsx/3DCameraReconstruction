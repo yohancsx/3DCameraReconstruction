{
 "cells": [
  {
   "cell_type": "code",
   "execution_count": null,
   "id": "cf0a6cd4-265d-4794-82e3-d752e47a60b9",
   "metadata": {},
   "outputs": [],
   "source": [
    "import open3d\n",
    "import scipy\n",
    "import numpy as np\n"
   ]
  },
  {
   "cell_type": "code",
   "execution_count": null,
   "id": "9cccbc7f-626f-4b22-aca4-3d3de1d8786d",
   "metadata": {},
   "outputs": [],
   "source": [
    "#get the MAT data\n",
    "meshMat = scipy.io.loadmat(\"pointIndices.mat\")\n",
    "\n",
    "#get all the points in the array\n",
    "allArrayPoints = meshMat['finalIndices']\n",
    "\n",
    "#all the other points\n",
    "allPoints = allArrayPoints[0,:]\n",
    "\n",
    "#single tuple with the array\n",
    "tup = allPoints[1]\n",
    "\n",
    "#the xyz points\n",
    "xyz = tup[0]"
   ]
  },
  {
   "cell_type": "code",
   "execution_count": null,
   "id": "efe4a728-e92c-4d4a-834f-019446e807cf",
   "metadata": {},
   "outputs": [],
   "source": [
    "#create the point cloud and set it's points\n",
    "pcd = o3d.geometry.PointCloud()\n",
    "pcd.points = o3d.utility.Vector3dVector(xyz)\n",
    "#o3d.io.write_point_cloud(\"../../TestData/sync.ply\", pcd)\n",
    "\n",
    "#estimate the normals\n",
    "pcd.estimate_normals()\n",
    "\n",
    "#show the geometries\n",
    "o3d.visualization.draw_geometries([pcd])\n",
    "\n",
    "#create the mesh\n",
    "#radii = [0.005, 0.01, 0.02, 0.04]\n",
    "#rec_mesh = o3d.geometry.TriangleMesh.create_from_point_cloud_ball_pivoting(pcd, o3d.utility.DoubleVector(radii))\n",
    "rec_mesh, densities = o3d.geometry.TriangleMesh.create_from_point_cloud_poisson(pcd, depth=9)"
   ]
  },
  {
   "cell_type": "code",
   "execution_count": null,
   "id": "e9c74283-7816-461b-a8e1-20f847d5ecc5",
   "metadata": {},
   "outputs": [],
   "source": [
    "#export the mesh\n",
    "o3d.io.write_triangle_mesh(\"bat1.obj\", rec_mesh)"
   ]
  }
 ],
 "metadata": {
  "kernelspec": {
   "display_name": "Python 3 (ipykernel)",
   "language": "python",
   "name": "python3"
  },
  "language_info": {
   "codemirror_mode": {
    "name": "ipython",
    "version": 3
   },
   "file_extension": ".py",
   "mimetype": "text/x-python",
   "name": "python",
   "nbconvert_exporter": "python",
   "pygments_lexer": "ipython3",
   "version": "3.10.0"
  }
 },
 "nbformat": 4,
 "nbformat_minor": 5
}
