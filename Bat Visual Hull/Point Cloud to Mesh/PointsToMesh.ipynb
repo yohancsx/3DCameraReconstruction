{
 "cells": [
  {
   "cell_type": "code",
   "execution_count": 7,
   "id": "cf0a6cd4-265d-4794-82e3-d752e47a60b9",
   "metadata": {},
   "outputs": [],
   "source": [
    "import scipy as scipy\n",
    "import numpy as np"
   ]
  },
  {
   "cell_type": "code",
   "execution_count": null,
   "id": "9cccbc7f-626f-4b22-aca4-3d3de1d8786d",
   "metadata": {},
   "outputs": [],
   "source": [
    "#get the MAT data\n",
    "meshMat = scipy.io.loadmat(\"pointIndices.mat\")\n",
    "\n",
    "#get all the points in the array\n",
    "allArrayPoints = meshMat['finalIndices']\n",
    "\n",
    "#all the other points\n",
    "allPoints = allArrayPoints[0,:]\n",
    "\n",
    "#single tuple with the array\n",
    "tup = allPoints[1]\n",
    "\n",
    "#the xyz points\n",
    "xyz = tup[0]"
   ]
  }
 ],
 "metadata": {
  "kernelspec": {
   "display_name": "Python 3 (ipykernel)",
   "language": "python",
   "name": "python3"
  },
  "language_info": {
   "codemirror_mode": {
    "name": "ipython",
    "version": 3
   },
   "file_extension": ".py",
   "mimetype": "text/x-python",
   "name": "python",
   "nbconvert_exporter": "python",
   "pygments_lexer": "ipython3",
   "version": "3.10.0"
  }
 },
 "nbformat": 4,
 "nbformat_minor": 5
}
